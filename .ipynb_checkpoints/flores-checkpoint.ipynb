{
 "cells": [
  {
   "cell_type": "code",
   "execution_count": 1,
   "metadata": {},
   "outputs": [
    {
     "name": "stderr",
     "output_type": "stream",
     "text": [
      "/home/vitor/.local/lib/python3.10/site-packages/matplotlib/projections/__init__.py:63: UserWarning: Unable to import Axes3D. This may be due to multiple versions of Matplotlib being installed (e.g. as a system package and as a pip package). As a result, the 3D projection is not available.\n",
      "  warnings.warn(\"Unable to import Axes3D. This may be due to multiple versions of \"\n"
     ]
    }
   ],
   "source": [
    "import pandas as pd\n",
    "import json\n",
    "from sklearn.preprocessing import MinMaxScaler\n",
    "import matplotlib.pyplot as plt\n",
    "import squarify\n",
    "import matplotlib.dates as mdates\n",
    "\n",
    "%matplotlib inline"
   ]
  },
  {
   "cell_type": "code",
   "execution_count": 2,
   "metadata": {},
   "outputs": [],
   "source": [
    "def read_portfolio(filename):\n",
    "    df = pd.read_csv(filename)\n",
    "    \n",
    "    row = df.iloc[0]\n",
    "    \n",
    "    portfolio = {\n",
    "        'error': row['Error'],\n",
    "        'weights': json.loads(row['Portfolio Weights']),\n",
    "        'performance': {\n",
    "            'train_performance': {\n",
    "                'tracking_error': row['Train Tracking Error'],\n",
    "                'root_mean_squared_error': row['Train RMSE'],\n",
    "                'correlation': row['Train Correlation']\n",
    "            },\n",
    "            'test_performance': {\n",
    "                'tracking_error': row['Test Tracking Error'],\n",
    "                'root_mean_squared_error': row['Test RMSE'],\n",
    "                'correlation': row['Test Correlation']\n",
    "            }\n",
    "        },\n",
    "        'optimization_time': row['Optimization Time'],\n",
    "        'dates': {\n",
    "            'train': {\n",
    "                'start': row['Start train'],\n",
    "                'end': row['End train'],\n",
    "            },\n",
    "            'test': {\n",
    "                'start': row['Start test'],\n",
    "                'end': row['End test'],\n",
    "            }\n",
    "        }\n",
    "    }\n",
    "    return portfolio"
   ]
  },
  {
   "cell_type": "code",
   "execution_count": 3,
   "metadata": {},
   "outputs": [],
   "source": [
    "import matplotlib.dates as mdates\n",
    "\n",
    "def plot_portfolio(portfolio, stocks_data, index_data, start_date, end_date, index_name):\n",
    "    # Seleciona os dados do portfólio\n",
    "    selected_stocks = stocks_data.columns\n",
    "    portfolio_data = stocks_data[selected_stocks]\n",
    "\n",
    "    # Calcula os pesos\n",
    "    weights = pd.Series(portfolio).reindex(selected_stocks).values\n",
    "\n",
    "    # Filtra e normaliza os dados\n",
    "    portfolio_data_filtered = (portfolio_data * weights).sum(axis=1).loc[start_date:end_date]\n",
    "    index_data_filtered = index_data.loc[start_date:end_date]\n",
    "\n",
    "    # Combina os dados para normalização conjunta\n",
    "    combined_data = pd.concat([portfolio_data_filtered, index_data_filtered], axis=1)\n",
    "    combined_data.columns = combined_data.columns.astype(str)\n",
    "    normalized_data = MinMaxScaler().fit_transform(combined_data)\n",
    "\n",
    "    portfolio_data_normalized = normalized_data[:, 0]\n",
    "    index_data_normalized = normalized_data[:, 1]\n",
    "\n",
    "    # Formata as datas para o título\n",
    "    start_date_str = pd.to_datetime(start_date).strftime('%Y-%m-%d')\n",
    "    end_date_str = pd.to_datetime(end_date).strftime('%Y-%m-%d')\n",
    "\n",
    "    # Configuração do gráfico\n",
    "    fig = plt.figure(figsize=(15, 8), facecolor='black')\n",
    "    eixo = fig.add_axes([0, 0, 1, 1], facecolor='black')\n",
    "\n",
    "    # Plotagem\n",
    "    eixo.plot(index_data_filtered.index, index_data_normalized, color='red', linestyle='-', linewidth=3, label=index_name)\n",
    "    eixo.plot(portfolio_data_filtered.index, portfolio_data_normalized, color='gold', linestyle='--', linewidth=3, label=\"Portfolio\")\n",
    "\n",
    "    # Configuração do eixo X para exibir os meses\n",
    "    eixo.xaxis.set_major_locator(mdates.MonthLocator())  # Localizador de meses\n",
    "    eixo.xaxis.set_major_formatter(mdates.DateFormatter('%b'))  # Formato de mês (abreviado)\n",
    "\n",
    "    # Configurações do gráfico\n",
    "    eixo.set_title(f\"Portfolio {len(portfolio)} stocks {index_name}: {start_date_str} to {end_date_str}\", fontsize=25, pad=20, color='white')\n",
    "    eixo.legend(title=\"Indicador\", loc='upper left', fontsize=15, facecolor='black', edgecolor='white', title_fontsize=15, labelcolor='white')\n",
    "    eixo.set_ylabel('Normalized Value', fontsize=20, color='white')\n",
    "    eixo.set_xlabel('Data', fontsize=20, color='white')\n",
    "    eixo.tick_params(colors='white')\n",
    "    eixo.grid(color='gray', linestyle='--')\n",
    "\n",
    "    # Ajusta a exibição das labels no eixo X\n",
    "    plt.setp(eixo.xaxis.get_majorticklabels(), rotation=45, ha='right', color='white')\n",
    "\n",
    "    # Exibe o gráfico\n",
    "    plt.show()\n"
   ]
  },
  {
   "cell_type": "code",
   "execution_count": 4,
   "metadata": {},
   "outputs": [],
   "source": [
    "def plot_portfolio_variance(portfolio, stocks_data, index_data, start_date, end_date, index_name):\n",
    "    # Seleciona os dados do portfólio\n",
    "    selected_stocks = stocks_data.columns\n",
    "    portfolio_data = stocks_data[selected_stocks]\n",
    "\n",
    "    # Calcula os pesos\n",
    "    weights = pd.Series(portfolio).reindex(selected_stocks).values\n",
    "\n",
    "    # Filtra os dados para o intervalo desejado\n",
    "    portfolio_data_filtered = (portfolio_data * weights).sum(axis=1).loc[start_date:end_date]\n",
    "    index_data_filtered = index_data.loc[start_date:end_date]\n",
    "\n",
    "    # Formata as datas para o título\n",
    "    start_date_str = pd.to_datetime(start_date).strftime('%Y-%m-%d')\n",
    "    end_date_str = pd.to_datetime(end_date).strftime('%Y-%m-%d')\n",
    "\n",
    "    # Configuração do gráfico\n",
    "    fig = plt.figure(figsize=(15, 8), facecolor='black')\n",
    "    eixo = fig.add_axes([0, 0, 1, 1], facecolor='black')\n",
    "\n",
    "    # Plotagem\n",
    "    eixo.plot(index_data_filtered.index, portfolio_data_filtered, color='red', linestyle='-', linewidth=3, label=index_name)\n",
    "    eixo.plot(portfolio_data_filtered.index, portfolio_data_filtered, color='gold', linestyle='--', linewidth=3, label=\"Portfolio\")\n",
    "\n",
    "    # Configuração do eixo X para exibir os meses\n",
    "    eixo.xaxis.set_major_locator(mdates.MonthLocator())  # Localizador de meses\n",
    "    eixo.xaxis.set_major_formatter(mdates.DateFormatter('%b'))  # Formato de mês (abreviado)\n",
    "\n",
    "    # Configurações do gráfico\n",
    "    eixo.set_title(f\"Portfolio {len(portfolio)} stocks {index_name}: {start_date_str} to {end_date_str}\", fontsize=25, pad=20, color='white')\n",
    "    eixo.legend(title=\"Indicador\", loc='upper left', fontsize=15, facecolor='black', edgecolor='white', title_fontsize=15, labelcolor='white')\n",
    "    eixo.set_ylabel('Variance', fontsize=20, color='white')\n",
    "    eixo.set_xlabel('Data', fontsize=20, color='white')\n",
    "    eixo.tick_params(colors='white')\n",
    "    eixo.grid(color='gray', linestyle='--')\n",
    "\n",
    "    # Ajusta a exibição das labels no eixo X\n",
    "    plt.setp(eixo.xaxis.get_majorticklabels(), rotation=45, ha='right', color='white')\n",
    "\n",
    "    # Exibe o gráfico\n",
    "    plt.show()"
   ]
  },
  {
   "cell_type": "code",
   "execution_count": 5,
   "metadata": {},
   "outputs": [],
   "source": [
    "def plot_weights(portfolio):\n",
    "    labels = list(portfolio.keys())\n",
    "    values = list(portfolio.values())\n",
    "\n",
    "    colors = plt.cm.autumn([i / len(values) for i in range(len(values))])\n",
    "\n",
    "    plt.figure(figsize=(12, 8), facecolor='black')\n",
    "    ax = plt.gca()\n",
    "    ax.set_facecolor('black')\n",
    "\n",
    "    squarify.plot(\n",
    "        sizes=values,\n",
    "        label=labels,\n",
    "        alpha=0.8,\n",
    "        color=colors,\n",
    "        text_kwargs={'color': 'white', 'fontsize': 12}\n",
    "    )\n",
    "\n",
    "    plt.title(f\"Treemap {len(portfolio)} stocks SP100\", fontsize=18, color='white', pad=20)\n",
    "    plt.axis('off')\n",
    "    plt.show()\n"
   ]
  },
  {
   "cell_type": "code",
   "execution_count": 6,
   "metadata": {},
   "outputs": [],
   "source": [
    "# Organizig data\n",
    "bvsp_index_ticker = '^BVSP'\n",
    "\n",
    "bvsp_data_values = pd.read_csv('./data/stock_values_^BVSP.csv', index_col=0)  # Inclui o índice\n",
    "bvsp_data_variance = pd.read_csv('./data/stock_variance_^BVSP.csv', index_col=0)\n",
    "\n",
    "bvsp_index_values = bvsp_data_values[bvsp_index_ticker]\n",
    "bvsp_stocks_values = bvsp_data_values.drop(columns=[bvsp_index_ticker])\n",
    "\n",
    "bvsp_index_variance = bvsp_data_variance[bvsp_index_ticker]\n",
    "bvsp_stock_variance = bvsp_data_variance.drop(columns=[bvsp_index_ticker])\n",
    "\n",
    "sp100_index_ticker = '^OEX'\n",
    "\n",
    "sp100_data_values = pd.read_csv('./data/stock_values_^OEX.csv', index_col=0)  # Inclui o índice\n",
    "sp100_data_variance = pd.read_csv('./data/stock_variance_^OEX.csv', index_col=0)\n",
    "\n",
    "sp100_index_values = sp100_data_values[sp100_index_ticker]\n",
    "sp100_stocks_values = sp100_data_values.drop(columns=[sp100_index_ticker])\n",
    "\n",
    "sp100_index_variance = sp100_data_variance[sp100_index_ticker]\n",
    "sp100_stock_variance = sp100_data_variance.drop(columns=[sp100_index_ticker])\n",
    "\n",
    "start_date_dataset = \"2023-01-01\"\n",
    "end_date_dataset = \"2024-01-01\"\n",
    "train_start = start_date_dataset\n",
    "train_end = \"2023-06-01\"\n",
    "test_start = \"2023-06-02\"\n",
    "test_end = end_date_dataset"
   ]
  },
  {
   "cell_type": "code",
   "execution_count": 7,
   "metadata": {},
   "outputs": [
    {
     "ename": "KeyError",
     "evalue": "'portfolio'",
     "output_type": "error",
     "traceback": [
      "\u001b[0;31m---------------------------------------------------------------------------\u001b[0m",
      "\u001b[0;31mKeyError\u001b[0m                                  Traceback (most recent call last)",
      "\u001b[0;32m/tmp/ipykernel_30946/549307799.py\u001b[0m in \u001b[0;36m<module>\u001b[0;34m\u001b[0m\n\u001b[1;32m      1\u001b[0m \u001b[0mresult\u001b[0m \u001b[0;34m=\u001b[0m \u001b[0mread_portfolio\u001b[0m\u001b[0;34m(\u001b[0m\u001b[0;34m\"./portfolios/regular_^OEX_10stocks.csv\"\u001b[0m\u001b[0;34m)\u001b[0m\u001b[0;34m\u001b[0m\u001b[0;34m\u001b[0m\u001b[0m\n\u001b[0;32m----> 2\u001b[0;31m \u001b[0mplot_portfolio\u001b[0m\u001b[0;34m(\u001b[0m\u001b[0mresult\u001b[0m\u001b[0;34m[\u001b[0m\u001b[0;34m'portfolio'\u001b[0m\u001b[0;34m]\u001b[0m\u001b[0;34m,\u001b[0m \u001b[0msp100_stocks_values\u001b[0m\u001b[0;34m,\u001b[0m \u001b[0msp100_index_values\u001b[0m\u001b[0;34m,\u001b[0m \u001b[0mstart_date_dataset\u001b[0m\u001b[0;34m,\u001b[0m \u001b[0mend_date_dataset\u001b[0m\u001b[0;34m,\u001b[0m \u001b[0msp100_index_ticker\u001b[0m\u001b[0;34m)\u001b[0m\u001b[0;34m\u001b[0m\u001b[0;34m\u001b[0m\u001b[0m\n\u001b[0m\u001b[1;32m      3\u001b[0m \u001b[0mplot_portfolio_variance\u001b[0m\u001b[0;34m(\u001b[0m\u001b[0mresult\u001b[0m\u001b[0;34m[\u001b[0m\u001b[0;34m'portfolio'\u001b[0m\u001b[0;34m]\u001b[0m\u001b[0;34m,\u001b[0m \u001b[0msp100_stock_variance\u001b[0m\u001b[0;34m,\u001b[0m \u001b[0msp100_index_variance\u001b[0m\u001b[0;34m,\u001b[0m \u001b[0mstart_date_dataset\u001b[0m\u001b[0;34m,\u001b[0m \u001b[0mend_date_dataset\u001b[0m\u001b[0;34m,\u001b[0m \u001b[0msp100_index_ticker\u001b[0m\u001b[0;34m)\u001b[0m\u001b[0;34m\u001b[0m\u001b[0;34m\u001b[0m\u001b[0m\n\u001b[1;32m      4\u001b[0m \u001b[0mplot_weights\u001b[0m\u001b[0;34m(\u001b[0m\u001b[0mresult\u001b[0m\u001b[0;34m[\u001b[0m\u001b[0;34m'portfolio'\u001b[0m\u001b[0;34m]\u001b[0m\u001b[0;34m)\u001b[0m\u001b[0;34m\u001b[0m\u001b[0;34m\u001b[0m\u001b[0m\n",
      "\u001b[0;31mKeyError\u001b[0m: 'portfolio'"
     ]
    }
   ],
   "source": [
    "portfolio = read_portfolio(\"./portfolios/regular_^OEX_10stocks.csv\")\n",
    "plot_portfolio(portfolio['weights'], sp100_stocks_values, sp100_index_values, start_date_dataset, end_date_dataset, sp100_index_ticker)\n",
    "plot_portfolio_variance(portfolio['weights'], sp100_stock_variance, sp100_index_variance, start_date_dataset, end_date_dataset, sp100_index_ticker)\n",
    "plot_weights(portfolio['weights'])"
   ]
  },
  {
   "cell_type": "code",
   "execution_count": null,
   "metadata": {},
   "outputs": [],
   "source": [
    "portfolio = read_portfolio(\"./portfolios/regular_^OEX_20stocks.csv\")\n",
    "plot_portfolio(portfolio['weights'], sp100_stocks_values, sp100_index_values, start_date_dataset, end_date_dataset, sp100_index_ticker)\n",
    "plot_portfolio_variance(portfolio['weights'], sp100_stock_variance, sp100_index_variance, start_date_dataset, end_date_dataset, sp100_index_ticker)\n",
    "plot_weights(portfolio['weights'])"
   ]
  },
  {
   "cell_type": "code",
   "execution_count": null,
   "metadata": {},
   "outputs": [],
   "source": [
    "portfolio = read_portfolio(\"./portfolios/regular_^BVSP_10stocks.csv\")\n",
    "plot_portfolio(portfolio['weights'], bvsp_stocks_values, bvsp_index_values, start_date_dataset, end_date_dataset, bvsp_index_ticker)\n",
    "plot_portfolio_variance(portfolio['weights'], bvsp_stock_variance, bvsp_index_variance, start_date_dataset, end_date_dataset, bvsp_index_ticker)\n",
    "plot_weights(portfolio['weights'])"
   ]
  },
  {
   "cell_type": "code",
   "execution_count": null,
   "metadata": {},
   "outputs": [],
   "source": [
    "portfolio = read_portfolio(\"./portfolios/regular_^BVSP_20stocks.csv\")\n",
    "plot_portfolio(portfolio['weights'], bvsp_stocks_values, bvsp_index_values, start_date_dataset, end_date_dataset, bvsp_index_ticker)\n",
    "plot_portfolio_variance(portfolio['weights'], bvsp_stock_variance, bvsp_index_variance, start_date_dataset, end_date_dataset, bvsp_index_ticker)\n",
    "plot_weights(portfolio['weights'])"
   ]
  }
 ],
 "metadata": {
  "kernelspec": {
   "display_name": "Python 3 (ipykernel)",
   "language": "python",
   "name": "python3"
  },
  "language_info": {
   "codemirror_mode": {
    "name": "ipython",
    "version": 3
   },
   "file_extension": ".py",
   "mimetype": "text/x-python",
   "name": "python",
   "nbconvert_exporter": "python",
   "pygments_lexer": "ipython3",
   "version": "3.10.12"
  }
 },
 "nbformat": 4,
 "nbformat_minor": 2
}

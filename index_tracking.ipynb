{
 "cells": [
  {
   "cell_type": "code",
   "execution_count": 1,
   "metadata": {},
   "outputs": [],
   "source": [
    "from indextracking import create_portfolio\n",
    "from data import build_dataset\n",
    "import datetime as dt\n",
    "import numpy as np\n",
    "import pandas as pd"
   ]
  },
  {
   "cell_type": "code",
   "execution_count": 2,
   "metadata": {},
   "outputs": [],
   "source": [
    "# Define index and stock tickers\n",
    "bvsp_index_ticker = '^BVSP'\n",
    "bvsp_stock_tickers = [\n",
    "  \"ALOS3.SA\", \"ALPA4.SA\", \"ABEV3.SA\", \"ASAI3.SA\", \"AURE3.SA\", \"AZUL4.SA\", \"AZZA3.SA\",\n",
    "  \"B3SA3.SA\", \"BBSE3.SA\", \"BBDC3.SA\", \"BBDC4.SA\", \"BRAP4.SA\", \"BBAS3.SA\", \"BRKM5.SA\",\n",
    "  \"BRAV3.SA\", \"BRFS3.SA\", \"BPAC11.SA\", \"CXSE3.SA\", \"CRFB3.SA\", \"CCRO3.SA\", \"CMIG4.SA\",\n",
    "  \"COGN3.SA\", \"CPLE6.SA\", \"CSAN3.SA\", \"CPFE3.SA\", \"CMIN3.SA\", \"CVCB3.SA\", \"CYRE3.SA\",\n",
    "  \"ELET3.SA\", \"ELET6.SA\", \"EMBR3.SA\", \"ENGI11.SA\", \"ENEV3.SA\", \"EGIE3.SA\", \"EQTL3.SA\",\n",
    "  \"EZTC3.SA\", \"FLRY3.SA\", \"GGBR4.SA\", \"GOAU4.SA\", \"NTCO3.SA\", \"HAPV3.SA\", \"HYPE3.SA\",\n",
    "  \"IGTI11.SA\", \"IRBR3.SA\", \"ITSA4.SA\", \"ITUB4.SA\", \"JBSS3.SA\", \"KLBN11.SA\", \"RENT3.SA\",\n",
    "  \"LREN3.SA\", \"LWSA3.SA\", \"MGLU3.SA\", \"MRFG3.SA\", \"BEEF3.SA\", \"MRVE3.SA\", \"MULT3.SA\",\n",
    "  \"PCAR3.SA\", \"PETR3.SA\", \"PETR4.SA\", \"RECV3.SA\", \"PRIO3.SA\", \"PETZ3.SA\", \"RADL3.SA\",\n",
    "  \"RAIZ4.SA\", \"RDOR3.SA\", \"RAIL3.SA\", \"SBSP3.SA\", \"SANB11.SA\", \"STBP3.SA\", \"SMTO3.SA\",\n",
    "  \"CSNA3.SA\", \"SLCE3.SA\", \"SUZB3.SA\", \"TAEE11.SA\", \"VIVT3.SA\", \"TIMS3.SA\", \"TOTS3.SA\",\n",
    "  \"TRPL4.SA\", \"UGPA3.SA\", \"USIM5.SA\", \"VALE3.SA\", \"VAMO3.SA\", \"VBBR3.SA\", \"VIVA3.SA\",\n",
    "  \"WEGE3.SA\", \"YDUQ3.SA\"\n",
    "]\n",
    "\n",
    "sp100_index_ticker = '^OEX'\n",
    "sp100_stock_tickers = [\n",
    "    'AAPL', 'ABBV', 'ABT', 'ACN', 'ADBE', 'AIG', 'AMD', 'AMGN', 'AMT', 'AMZN',\n",
    "    'AVGO', 'AXP', 'BA', 'BAC', 'BK', 'BKNG', 'BLK', 'BMY', 'C', 'CAT',\n",
    "    'CHTR', 'CL', 'CMCSA', 'COF', 'COP', 'COST', 'CRM', 'CSCO', 'CVS', 'CVX',\n",
    "    'DHR', 'DIS', 'DOW', 'DUK', 'EMR', 'EXC', 'F', 'FDX', 'GD', 'GE',\n",
    "    'GILD', 'GM', 'GOOG', 'GOOGL', 'GS', 'HD', 'HON', 'IBM', 'INTC', 'JNJ',\n",
    "    'JPM', 'KHC', 'KO', 'LLY', 'LMT', 'LOW', 'MA', 'MCD', 'MDLZ', 'MDT',\n",
    "    'MET', 'META', 'MMM', 'MO', 'MRK', 'MS', 'MSFT', 'NEE', 'NFLX', 'NKE',\n",
    "    'NVDA', 'ORCL', 'PEP', 'PFE', 'PG', 'PM', 'PYPL', 'QCOM', 'RTX', 'SBUX',\n",
    "    'SCHW', 'SO', 'SPG', 'T', 'TGT', 'TMO', 'TMUS', 'TSLA', 'TXN', 'UNH',\n",
    "    'UNP', 'UPS', 'USB', 'V', 'VZ', 'WBA', 'WFC', 'WMT'\n",
    "]"
   ]
  },
  {
   "cell_type": "code",
   "execution_count": null,
   "metadata": {},
   "outputs": [
    {
     "name": "stderr",
     "output_type": "stream",
     "text": [
      "[**********************65%******                 ]  64 of 99 completed"
     ]
    }
   ],
   "source": [
    "# Define the period for data retrieval\n",
    "end_date = dt.datetime(year=2024, month=1, day=1)\n",
    "start_date = dt.datetime(year=2024, month=2, day=1)\n",
    "\n",
    "# Build dataset from choosen tickers\n",
    "data_sp100 = build_dataset(sp100_index_ticker, sp100_stock_tickers, start_date, end_date)\n",
    "data_bvsp = build_dataset(bvsp_index_ticker, bvsp_stock_tickers, start_date, end_date)\n",
    "\n",
    "data_sp100_index = data_sp100[sp100_index_ticker]\n",
    "data_sp100_stocks = data_sp100.drop(columns=[sp100_index_ticker])\n",
    "\n",
    "data_bvsp_index = data_bvsp[bvsp_index_ticker]\n",
    "data_bvsp_stocks = data_bvsp.drop(columns=[bvsp_index_ticker])"
   ]
  },
  {
   "cell_type": "code",
   "execution_count": null,
   "metadata": {},
   "outputs": [],
   "source": [
    "create_portfolio(data_sp100_stocks, data_sp100_index, 50)"
   ]
  },
  {
   "cell_type": "code",
   "execution_count": null,
   "metadata": {
    "scrolled": true
   },
   "outputs": [],
   "source": [
    "print(np.array(data_bvsp_stocks.columns))"
   ]
  },
  {
   "cell_type": "code",
   "execution_count": null,
   "metadata": {},
   "outputs": [],
   "source": [
    "print(data_sp100_stocks)"
   ]
  },
  {
   "cell_type": "code",
   "execution_count": null,
   "metadata": {},
   "outputs": [],
   "source": [
    "print(data_sp100_stocks.columns)\n",
    "print(type(data_sp100_stocks.columns))"
   ]
  },
  {
   "cell_type": "code",
   "execution_count": null,
   "metadata": {},
   "outputs": [],
   "source": [
    "print(data_sp100_stocks.isna().sum().sum())"
   ]
  },
  {
   "cell_type": "code",
   "execution_count": null,
   "metadata": {},
   "outputs": [],
   "source": []
  }
 ],
 "metadata": {
  "kernelspec": {
   "display_name": "Python 3 (ipykernel)",
   "language": "python",
   "name": "python3"
  },
  "language_info": {
   "codemirror_mode": {
    "name": "ipython",
    "version": 3
   },
   "file_extension": ".py",
   "mimetype": "text/x-python",
   "name": "python",
   "nbconvert_exporter": "python",
   "pygments_lexer": "ipython3",
   "version": "3.10.12"
  }
 },
 "nbformat": 4,
 "nbformat_minor": 4
}
